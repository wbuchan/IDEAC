{
 "cells": [
  {
   "cell_type": "code",
   "execution_count": 1,
   "metadata": {},
   "outputs": [
    {
     "name": "stderr",
     "output_type": "stream",
     "text": [
      "Using TensorFlow backend.\n"
     ]
    }
   ],
   "source": [
    "import time\n",
    "import matplotlib.pyplot as plt\n",
    "import numpy as np\n",
    "import pandas as pd\n",
    "import seaborn as sns\n",
    "from pandas.io.json import json_normalize\n",
    "from pandas.tseries import converter as pdtc\n",
    "from sklearn.svm import SVR\n",
    "import matplotlib.units as munits\n",
    "from keras.layers import Dropout\n",
    "from keras.regularizers import l2\n",
    "from datetime import datetime\n",
    "from sklearn.model_selection import train_test_split,GridSearchCV\n",
    "from sklearn.ensemble import GradientBoostingRegressor\n",
    "import matplotlib.pyplot as plt\n",
    "from pandas.plotting import register_matplotlib_converters\n",
    "from tensorflow.python.keras.models import Sequential\n",
    "from tensorflow.python.keras.layers import Dense\n",
    "from sklearn.linear_model import LinearRegression\n",
    "from scipy import stats\n",
    "from tensorflow.python.keras.wrappers.scikit_learn import KerasRegressor\n",
    "from functools import reduce\n",
    "from datetime import datetime\n",
    "from keras.optimizers import SGD\n",
    "from tensorflow.keras.layers import *\n",
    "from tensorflow.keras.models import Sequential, Model\n",
    "from keras.models import Sequential\n",
    "from keras.layers import Dense\n",
    "from keras.layers import Flatten\n",
    "from keras.layers.convolutional import Conv1D\n",
    "from keras.layers.convolutional import MaxPooling1D\n",
    "import matplotlib.pyplot as plt\n",
    "import matplotlib.dates as mdates\n",
    "from pandas import read_csv\n",
    "from pandas.plotting import scatter_matrix\n",
    "import math\n",
    "from keras.models import Sequential\n",
    "from keras.layers import Dense\n",
    "from keras.layers import LSTM\n",
    "from keras.layers import Dropout, Lambda, BatchNormalization\n",
    "from sklearn.preprocessing import MinMaxScaler\n",
    "from sklearn.metrics import mean_squared_error\n",
    "import chart_studio.plotly as py\n",
    "import plotly.graph_objs as go\n",
    "from sklearn.model_selection import train_test_split,GridSearchCV\n",
    "from sklearn.ensemble import GradientBoostingRegressor\n",
    "from xgboost import XGBRegressor\n",
    "from sklearn.metrics import r2_score\n",
    "from sklearn.metrics import mean_squared_error\n",
    "from matplotlib import pyplot\n",
    "from keras.wrappers.scikit_learn import KerasRegressor\n",
    "from sklearn.model_selection import cross_val_score\n",
    "from sklearn.model_selection import KFold\n",
    "from sklearn.preprocessing import StandardScaler\n",
    "from sklearn.pipeline import Pipeline\n",
    "import keras\n",
    "import json\n",
    "import os\n",
    "import sklearn\n",
    "from datetime import datetime\n",
    "from dateutil.parser import parse\n",
    "import findspark\n",
    "findspark.init()\n",
    "from pyspark.sql.functions import percent_rank\n",
    "from pyspark.sql import Window\n",
    "from pyspark.ml.regression import GBTRegressor\n",
    "from pyspark.ml import Pipeline\n",
    "from pyspark.ml.regression import RandomForestRegressor\n",
    "from pyspark.ml.feature import VectorIndexer\n",
    "from pyspark.ml.evaluation import RegressionEvaluator\n",
    "from pyspark.sql import SparkSession\n",
    "from sklearn.utils import parallel_backend\n",
    "from sklearn.model_selection import cross_val_score, cross_val_predict\n",
    "from sklearn import datasets\n",
    "from sklearn import svm\n",
    "from sklearn.neural_network import MLPRegressor\n",
    "from joblibspark import register_spark\n",
    "import numpy as np\n",
    "from pyspark.sql import Window\n",
    "from sklearn import model_selection\n",
    "pd.set_option('display.max_rows', None)"
   ]
  },
  {
   "cell_type": "code",
   "execution_count": 2,
   "metadata": {},
   "outputs": [],
   "source": [
    "#Initialize spark session\n",
    "spark = SparkSession \\\n",
    "        .builder \\\n",
    "        .appName(\"ensemble_learning_sparktest\") \\\n",
    "        .getOrCreate()\n",
    "\n",
    "# Registers spark for SKLearn parallel backend\n",
    "register_spark()"
   ]
  },
  {
   "cell_type": "code",
   "execution_count": 3,
   "metadata": {},
   "outputs": [],
   "source": [
    "def concatenate_json_to_df(directory_path, to_output, folder_output):\n",
    "    list_json = []\n",
    "    \n",
    "    for file in os.listdir(directory_path):\n",
    "        if file.split(\".\")[-1] == \"json\":\n",
    "            \n",
    "            with open(directory_path+file, 'r') as f:\n",
    "            \n",
    "                # If json file is not empty\n",
    "                if os.stat(directory_path+file).st_size != 0:\n",
    "                                \n",
    "                        \n",
    "                    # For Observation file type\n",
    "                    if directory_path.split(\"/\")[-2] == \"Observations\":\n",
    "                        dictio = json.load(f)\n",
    "                                            \n",
    "                        if 'observation' in dictio:\n",
    "                            observation = dictio[\"observation\"]\n",
    "                        \n",
    "                            for entry in observation:\n",
    "                                entry['date'] =  file.rstrip(\".json\")\n",
    "                                entry['station'] = dictio['station']\n",
    "                                entry['time'] = datetime.utcfromtimestamp(entry['time']).strftime('%d-%m-%Y %H:%M:%S')\n",
    "                                list_json.append(entry)\n",
    "                    \n",
    "                    \n",
    "                    # For Analyses file type\n",
    "                    elif directory_path.split(\"/\")[-2] == \"Analyses\":\n",
    "                        dictio = json.load(f)\n",
    "                        if 'source' in dictio and 'temperature' in dictio:\n",
    "                            source = list(dictio['source'])\n",
    "                            temperature = list(dictio['temperature'])\n",
    "                            \n",
    "                            dictio['date'] = file.rstrip(\".json\")\n",
    "                            dictio.pop('source', None)\n",
    "                            dictio.pop('temperature', None)\n",
    "                            \n",
    "                            entry = dict()\n",
    "                            for i in range(0, len(source)):\n",
    "                                dictio[source[i]] = temperature[i]\n",
    "                                list_json.append(dictio)\n",
    "\n",
    "                                \n",
    "                    # For Previsions file type\n",
    "                    elif \"Previsions\" in directory_path.split(\"/\"):\n",
    "                        dictio = json.load(f)\n",
    "                        \n",
    "                        latit_r = None\n",
    "                        long_r = None\n",
    "                        \n",
    "                        if \"longitude_r\" in dictio:\n",
    "                            long_r = dictio['longitude_r']\n",
    "\n",
    "                        if \"latitude_r\" in dictio:\n",
    "                            latit_r = dictio['latitude_r']\n",
    "                            \n",
    "                        if 'forecast' in dictio:\n",
    "                            forecast = dictio['forecast'] \n",
    "                            \n",
    "                            \n",
    "                            for i in range(0, len(forecast)):\n",
    "                                dictio = dict()\n",
    "                                \n",
    "                                if long_r != None and latit_r != None:\n",
    "                                    dictio['latitude_r'] = latit_r\n",
    "                                    dictio['longitude_r'] = long_r\n",
    "                                \n",
    "                                if \"temperature\" in forecast[i]:\n",
    "                                    dictio[\"temperature\"] = forecast[i][\"temperature\"]\n",
    "                                    \n",
    "                                if \"time\" in forecast[i]:\n",
    "                                    dictio[\"time\"] = datetime.utcfromtimestamp(forecast[i][\"time\"]).strftime('%d-%m-%Y %H:%M:%S')\n",
    "                                    \n",
    "                                if \"wind\" in forecast[i]:\n",
    "                                    dictio[\"wind\"] = forecast[i][\"wind\"]\n",
    "                                \n",
    "                                if \"wind_dir\" in forecast[i]:\n",
    "                                    dictio[\"wind_dir\"] = forecast[i][\"wind_dir\"]\n",
    "                                \n",
    "                                if \"humidity\" in forecast[i]:\n",
    "                                    dictio[\"humidity\"] = forecast[i][\"humidity\"]\n",
    "                                \n",
    "                                if \"pressure\" in forecast[i]:\n",
    "                                            dictio[\"pressure\"] = forecast[i][\"pressure\"]\n",
    "                                        \n",
    "                                if \"cloud_cover\" in forecast[i]:\n",
    "                                            dictio[\"cloud_cover\"] = forecast[i][\"cloud_cover\"]\n",
    "\n",
    "    \n",
    "                                \n",
    "                                dictio[\"date\"] = file.rstrip(\".json\")\n",
    "                                \n",
    "                                list_json.append(dictio)\n",
    "                \n",
    "                \n",
    "                else:\n",
    "                    dictio = dict()\n",
    "                    dictio[\"date\"] = file.rstrip(\".json\")\n",
    "                    list_json.append(dictio)\n",
    "                                    \n",
    "    df = pd.DataFrame(list_json)\n",
    "    df.drop_duplicates()\n",
    "    df.to_csv(folder_output+\"/\"+to_output.replace(\"/\", \"-\")+\".csv\", sep=\";\", index=False)\n",
    "    \n",
    "    \n",
    "dirname = \"technical_challenge_v9\"\n",
    "if not os.path.exists(dirname):\n",
    "    os.mkdir(dirname)\n",
    "    \n",
    "concatenate_json_to_df('technical_challenge/Asport CAPRED/Previsions/Api-Agro/', \"Asport CAPRED/Previsions/Api-Agro\", dirname)\n",
    "# Launch data of Api, Dark and weatherbit forcesaters for the station Asport\n",
    "path = \"technical_challenge_v9/Asport CAPRED-Previsions-\"\n",
    "path_previsions = [\"Api-Agro.csv\", \"Dark Sky.csv\", \"Weatherbit.csv\"]\n",
    "path_observations = \"technical_challenge_v9/Asport CAPRED-Observations.csv\"\n",
    "\n",
    "def get_forecast(path, path_previsions, path_observations):\n",
    "    list_data = []\n",
    "    for forecaster in path_previsions:\n",
    "        dataframe = pd.read_csv(path + forecaster, sep=\";\")\n",
    "        dataframe[\"time\"] = pd.to_datetime(dataframe['time'], format='%d-%m-%Y %H:%M:%S')\n",
    "        dataframe.sort_values(by=['time'])\n",
    "        dataframe['time'] = dataframe['time'].apply(lambda x: x.replace(minute=0, second=0))\n",
    "        dataframe = dataframe.groupby(['time']).apply(lambda x : x.iloc[:6].mean())\n",
    "        dataframe.columns = [x + \"_\" + forecaster.split('.')[0] for x in dataframe.columns]\n",
    "        list_data.append(dataframe)   \n",
    "    \n",
    "    observation_data = pd.read_csv(path_observations, sep=\";\", index_col=False).drop(columns=[\"station\"]).dropna()\n",
    "    observation_data[\"time\"] = pd.to_datetime(observation_data['time'], format='%d-%m-%Y %H:%M:%S')\n",
    "    observation_data.sort_values(by='time')\n",
    "    observation_data['time'] = observation_data['time'].apply(lambda x: x.replace(minute=0, second=0))\n",
    "    observation_data = observation_data.groupby(['time']).apply(lambda x : x.iloc[0])\n",
    "    observation_data=observation_data.rename(index=str, columns={\"humidity\": \"humidity_Y\", \"precipitation\": \"precipitation_Y\", \"temperature\": \"temperature_Y\"})\n",
    "    \n",
    "    return list_data, observation_data\n",
    "\n",
    "# Associate X to previsions and Y to observations \n",
    "list_data, observation_data = get_forecast(path, path_previsions, path_observations)\n",
    "X = pd.concat(list_data, axis=1)\n",
    "Y = observation_data\n",
    "\n",
    "# Delete non useful variable in prevision data\n",
    "X = X.loc[:, ~X.columns.str.startswith('l')]\n",
    "X = X.loc[:, ~X.columns.str.startswith('c')]\n",
    "X = X.loc[:, ~X.columns.str.startswith('p')]\n",
    "X = X.loc[:, ~X.columns.str.startswith('wind_dir')]\n",
    "X = X.loc[:, ~X.columns.str.startswith('prec')]\n",
    "X = X.loc[:, ~X.columns.str.startswith('date')]\n",
    "X = X.loc[:, ~X.columns.str.startswith('time')]"
   ]
  },
  {
   "cell_type": "code",
   "execution_count": 4,
   "metadata": {},
   "outputs": [],
   "source": [
    "# Delete non useful variable in observation data\n",
    "Y = Y.drop(['date','time'], axis=1)\n",
    "\n",
    "# Import JSON API in order to collect most recent data\n",
    "import json,urllib.request\n",
    "data_A = urllib.request.urlopen(\"http://sd-59247.dedibox.fr/agriscope/obs/transform_obs.php?STATION=Asport\").read()\n",
    "output_A = json.loads(data_A)\n",
    "\n",
    "# Transform JSON data in a dataframe A\n",
    "A = json.loads(data_A)\n",
    "A_data = pd.DataFrame(A)\n",
    "A = A_data.T\n",
    "\n",
    "# Delelte the index of the dataframe A\n",
    "A.index.name = 'time'\n",
    "A.reset_index(level=0, inplace=True)\n",
    "\n",
    "# Convert date time in correct format \n",
    "A['time'] = pd.to_datetime(A['time'])\n",
    "A['time'] = pd.to_datetime(A['time'],'%d-%m-%Y %H:%M:%S')\n",
    "A['time'] = A['time'].apply(lambda x: x.replace(minute=0, second=0))\n",
    "\n",
    "# Rename dataframe A columns\n",
    "A.columns = ['time', 'temperature_Y', 'precipitation_Y', 'humidity_Y']\n",
    "\n",
    "# Reset the index of the dataframe A\n",
    "A = A.set_index('time') \n"
   ]
  },
  {
   "cell_type": "code",
   "execution_count": 5,
   "metadata": {},
   "outputs": [
    {
     "name": "stderr",
     "output_type": "stream",
     "text": [
      "/Users/will/miniconda3/envs/ISEP/lib/python3.7/site-packages/ipykernel_launcher.py:3: FutureWarning:\n",
      "\n",
      "Sorting because non-concatenation axis is not aligned. A future version\n",
      "of pandas will change to not sort by default.\n",
      "\n",
      "To accept the future behavior, pass 'sort=False'.\n",
      "\n",
      "To retain the current behavior and silence the warning, pass 'sort=True'.\n",
      "\n",
      "\n"
     ]
    }
   ],
   "source": [
    "# Concat vertically Y and A (Y contains former observation and A most recent one)\n",
    "frames = [Y, A]\n",
    "first_concat = pd.concat(frames)\n",
    "\n",
    "# Merge X and Y dataframe in one single dataframe \"df_forcast_cap\"\n",
    "df_forcast_cap = pd.merge(X, first_concat, right_index=True, left_index=True)\n",
    "df_forcast_cap = df_forcast_cap.drop(['precipitation_Y'], axis=1)\n",
    "\n",
    "# Delete missing values for \"df_forcast_cap\"\n",
    "df_forcast_cap = df_forcast_cap.dropna()"
   ]
  },
  {
   "cell_type": "code",
   "execution_count": 6,
   "metadata": {},
   "outputs": [],
   "source": [
    "# Pyarrow optimization for pandas dataframe to spark dataframe conversion \n",
    "\n",
    "#spark.conf.set(\"spark.sql.execution.arrow.enabled\", \"true\") NEED TO FIX PyARROW VERSION"
   ]
  },
  {
   "cell_type": "code",
   "execution_count": 7,
   "metadata": {},
   "outputs": [],
   "source": [
    "# Reset index and keep timestamps (Timestamps needed later for efficient data partition)\n",
    "df_forcast_cap.reset_index(drop=False, inplace=True)"
   ]
  },
  {
   "cell_type": "code",
   "execution_count": 8,
   "metadata": {},
   "outputs": [],
   "source": [
    "# Convert pandas to dataframe\n",
    "train_df = spark.createDataFrame(df_forcast_cap) #dataframe"
   ]
  },
  {
   "cell_type": "markdown",
   "metadata": {},
   "source": [
    "## Layer 1"
   ]
  },
  {
   "cell_type": "code",
   "execution_count": 9,
   "metadata": {},
   "outputs": [],
   "source": [
    "# Split the data into training and test sets \n",
    "train_df = train_df.withColumn(\"rank\", percent_rank().over(Window.partitionBy().orderBy(\"time\")))\n",
    "\n",
    "trainingData_nv = train_df.where(\"rank <= .75\").drop(\"rank\")\n",
    "testData_nv = train_df.where(\"rank > .75\").drop(\"rank\")"
   ]
  },
  {
   "cell_type": "code",
   "execution_count": 10,
   "metadata": {},
   "outputs": [],
   "source": [
    "# Compress data points into feature vector\n",
    "from pyspark.ml.feature import VectorAssembler\n",
    "assembler = VectorAssembler(inputCols=[\"temperature_Api-Agro\", \"wind_Api-Agro\", \"humidity_Api-Agro\", \\\n",
    "                                      \"humidity_Dark Sky\", \"temperature_Dark Sky\", \"wind_Dark Sky\", \\\n",
    "                                      \"humidity_Weatherbit\", \"temperature_Weatherbit\", \"wind_Weatherbit\" \\\n",
    "                                      ],outputCol=\"features\")\n",
    "trainingData = assembler.transform(trainingData_nv)\n",
    "testData = assembler.transform(testData_nv)"
   ]
  },
  {
   "cell_type": "code",
   "execution_count": 11,
   "metadata": {},
   "outputs": [],
   "source": [
    "# Create df with temperature_Y as label \n",
    "trainingData = trainingData.selectExpr(\"time\", \"temperature_Y as label\", \"features\")\n",
    "testData = testData.selectExpr(\"time\", \"temperature_Y as label\", \"features\")"
   ]
  },
  {
   "cell_type": "code",
   "execution_count": 12,
   "metadata": {},
   "outputs": [
    {
     "name": "stdout",
     "output_type": "stream",
     "text": [
      "X: 2131\n",
      "Training X: 1598\n",
      "Testing X: 533\n"
     ]
    }
   ],
   "source": [
    "# Information about train and test and X variables\n",
    "print('X: %d' % (train_df.count()))\n",
    "print('Training X: %d' % (trainingData.count()))\n",
    "print('Testing X: %d' % (testData.count()))"
   ]
  },
  {
   "cell_type": "code",
   "execution_count": 13,
   "metadata": {},
   "outputs": [],
   "source": [
    "# Train a RandomForest model.\n",
    "rf = RandomForestRegressor(featuresCol=\"features\")\n",
    "model = rf.fit(trainingData)"
   ]
  },
  {
   "cell_type": "code",
   "execution_count": 14,
   "metadata": {
    "scrolled": false
   },
   "outputs": [
    {
     "name": "stdout",
     "output_type": "stream",
     "text": [
      "+-------------------+------------------+-----+--------------------+\n",
      "|               time|        prediction|label|            features|\n",
      "+-------------------+------------------+-----+--------------------+\n",
      "|2019-08-01 14:00:00|31.839546319125038| 30.9|[32.2347653333333...|\n",
      "|2019-08-01 15:00:00| 31.49031203945122| 31.3|[32.2937658333333...|\n",
      "|2019-08-01 16:00:00|30.369671864275695| 30.4|[30.8703041666666...|\n",
      "|2019-08-01 17:00:00|  29.3650350938859| 29.4|[30.1431720000000...|\n",
      "|2019-08-01 18:00:00|28.191390085418675| 28.5|[28.593164,7.8602...|\n",
      "|2019-08-01 19:00:00|25.449858868773866| 26.8|[26.7010746666666...|\n",
      "|2019-08-01 20:00:00|23.599268813337087| 25.0|[25.1312506666666...|\n",
      "|2019-08-01 21:00:00|21.957998438409525| 22.3|[23.9602703333333...|\n",
      "|2019-08-01 22:00:00|20.988394497975715| 19.6|[23.053451,2.3277...|\n",
      "|2019-08-01 23:00:00| 20.84925397121483| 18.3|[22.6442713333333...|\n",
      "+-------------------+------------------+-----+--------------------+\n",
      "only showing top 10 rows\n",
      "\n",
      "Root Mean Squared Error (RMSE) on test data = 1.46978\n"
     ]
    }
   ],
   "source": [
    "# Make predictions\n",
    "rf_predictions = model.transform(testData)\n",
    "\n",
    "# Display example rows\n",
    "rf_predictions.select(\"time\", \"prediction\", \"label\", \"features\").show(10)\n",
    "\n",
    "# Compute RMS error\n",
    "evaluator = RegressionEvaluator(\n",
    "    labelCol=\"label\", predictionCol=\"prediction\", metricName=\"rmse\")\n",
    "rmse = evaluator.evaluate(rf_predictions)\n",
    "print(\"Root Mean Squared Error (RMSE) on test data = %g\" % rmse)\n",
    "\n",
    "evaluator = RegressionEvaluator(\n",
    "    labelCol=\"label\", predictionCol=\"prediction\", metricName=\"rmse\")\n",
    "rmse = evaluator.evaluate(rf_predictions)"
   ]
  },
  {
   "cell_type": "code",
   "execution_count": 15,
   "metadata": {},
   "outputs": [],
   "source": [
    "# Initialize and train GBR\n",
    "gbr = GBTRegressor(featuresCol=\"features\", labelCol = \"label\", maxIter=100)\n",
    "model = gbr.fit(trainingData)"
   ]
  },
  {
   "cell_type": "code",
   "execution_count": 16,
   "metadata": {},
   "outputs": [
    {
     "name": "stdout",
     "output_type": "stream",
     "text": [
      "+-------------------+------------------+-----+--------------------+\n",
      "|               time|        prediction|label|            features|\n",
      "+-------------------+------------------+-----+--------------------+\n",
      "|2019-08-01 14:00:00|31.287133750629085| 30.9|[32.2347653333333...|\n",
      "|2019-08-01 15:00:00| 31.52636486471717| 31.3|[32.2937658333333...|\n",
      "|2019-08-01 16:00:00|30.300450721461743| 30.4|[30.8703041666666...|\n",
      "|2019-08-01 17:00:00|29.253536596319943| 29.4|[30.1431720000000...|\n",
      "|2019-08-01 18:00:00|27.770580319621725| 28.5|[28.593164,7.8602...|\n",
      "|2019-08-01 19:00:00| 24.69750877142503| 26.8|[26.7010746666666...|\n",
      "|2019-08-01 20:00:00| 23.18562206417946| 25.0|[25.1312506666666...|\n",
      "|2019-08-01 21:00:00|20.521948624861672| 22.3|[23.9602703333333...|\n",
      "|2019-08-01 22:00:00| 18.49917640663606| 19.6|[23.053451,2.3277...|\n",
      "|2019-08-01 23:00:00|18.724837748181884| 18.3|[22.6442713333333...|\n",
      "+-------------------+------------------+-----+--------------------+\n",
      "only showing top 10 rows\n",
      "\n",
      "Root Mean Squared Error (RMSE) on test data = 1.55157\n"
     ]
    }
   ],
   "source": [
    "# Make predictions\n",
    "gbr_predictions = model.transform(testData)\n",
    "\n",
    "# Display example rows\n",
    "gbr_predictions.select(\"time\", \"prediction\", \"label\", \"features\").show(10)\n",
    "\n",
    "# Compute test error\n",
    "evaluator = RegressionEvaluator(\n",
    "    labelCol=\"label\", predictionCol=\"prediction\", metricName=\"rmse\")\n",
    "rmse = evaluator.evaluate(gbr_predictions)\n",
    "print(\"Root Mean Squared Error (RMSE) on test data = %g\" % rmse)"
   ]
  },
  {
   "cell_type": "code",
   "execution_count": 17,
   "metadata": {},
   "outputs": [],
   "source": [
    "#Initialize data for MLP\n",
    "\n",
    "train=trainingData_nv.toPandas()\n",
    "test=testData_nv.toPandas()\n",
    "\n",
    "train = train.drop('time', axis=1)\n",
    "test = test.drop('time', axis=1)\n",
    "\n",
    "X=train.drop(['temperature_Y', 'humidity_Y'],axis=1)\n",
    "Y=train['temperature_Y']\n",
    "\n",
    "x=test.drop(['temperature_Y', 'humidity_Y'],axis=1)\n",
    "y=test['temperature_Y']\n",
    "\n",
    "#Move data to numpy array\n",
    "\n",
    "X = np.array(X) #Train \n",
    "Y = np.array(Y) \n",
    "x = np.array(x) #Test\n",
    "y = np.array(y) "
   ]
  },
  {
   "cell_type": "code",
   "execution_count": 18,
   "metadata": {},
   "outputs": [],
   "source": [
    "#Initialize MLP model\n",
    "\n",
    "mlp = MLPRegressor(\n",
    "    hidden_layer_sizes=(6,), activation='relu', solver='adam', alpha=0.001, batch_size=10,\n",
    "    learning_rate='constant', learning_rate_init=0.03, power_t=0.5, max_iter=3000, shuffle=True,\n",
    "    random_state=9, tol=0.001, verbose='optional', warm_start=False, momentum=0.9, nesterovs_momentum=True,\n",
    "    early_stopping=False, validation_fraction=0.1, beta_1=0.9, beta_2=0.999, epsilon=1e-08)"
   ]
  },
  {
   "cell_type": "code",
   "execution_count": 19,
   "metadata": {},
   "outputs": [
    {
     "name": "stdout",
     "output_type": "stream",
     "text": [
      "Iteration 1, loss = 10.75372047\n",
      "Iteration 2, loss = 2.49595051\n",
      "Iteration 3, loss = 1.76413521\n",
      "Iteration 4, loss = 1.51532504\n",
      "Iteration 5, loss = 1.38760141\n",
      "Iteration 6, loss = 1.55822882\n",
      "Iteration 7, loss = 1.31603594\n",
      "Iteration 8, loss = 1.19874467\n",
      "Iteration 9, loss = 1.34175029\n",
      "Iteration 10, loss = 1.28441641\n",
      "Iteration 11, loss = 1.20249594\n",
      "Iteration 12, loss = 1.12227393\n",
      "Iteration 13, loss = 1.13001847\n",
      "Iteration 14, loss = 1.14448588\n",
      "Iteration 15, loss = 1.14102935\n",
      "Iteration 16, loss = 1.32650562\n",
      "Iteration 17, loss = 1.14374845\n",
      "Iteration 18, loss = 1.25308524\n",
      "Iteration 19, loss = 1.08928102\n",
      "Iteration 20, loss = 1.36482187\n",
      "Iteration 21, loss = 1.13116490\n",
      "Iteration 22, loss = 1.23182704\n",
      "Iteration 23, loss = 1.18147345\n",
      "Iteration 24, loss = 1.14140815\n",
      "Iteration 25, loss = 1.14163918\n",
      "Iteration 26, loss = 1.19274361\n",
      "Iteration 27, loss = 1.10718319\n",
      "Iteration 28, loss = 1.13234048\n",
      "Iteration 29, loss = 1.18779089\n",
      "Iteration 30, loss = 1.41073945\n",
      "Training loss did not improve more than tol=0.001000 for 10 consecutive epochs. Stopping.\n"
     ]
    }
   ],
   "source": [
    "mlp.fit(X, Y)\n",
    "\n",
    "pred_train = mlp.predict(X)\n",
    "pred_test = mlp.predict(x)"
   ]
  },
  {
   "cell_type": "code",
   "execution_count": 20,
   "metadata": {},
   "outputs": [
    {
     "name": "stdout",
     "output_type": "stream",
     "text": [
      "Model Performance\n",
      "Average Error: 1.6615 degrees.\n",
      "Accuracy = 93.32%.\n",
      "train_rmse:1.4356\n",
      "test_rmse:1.6615\n"
     ]
    }
   ],
   "source": [
    "#creating function for error and accurace\n",
    "def evaluate(test_features, test_labels):\n",
    "    #predictions = model.predict(test_features)\n",
    "    errors = abs(pred_test - y)\n",
    "    mape = 100 * np.mean(errors / y)\n",
    "    accuracy = 100 - mape\n",
    "    print('Model Performance')\n",
    "    print('Average Error: {:0.4f} degrees.'.format(np.mean(errors)))\n",
    "    print('Accuracy = {:0.2f}%.'.format(accuracy))\n",
    "    \n",
    "    return accuracy\n",
    "\n",
    "evaluate(x,y)\n",
    "\n",
    "#calculating rmse for train and test data\n",
    "rmse_train=np.sqrt((Y - pred_train) ** 2).mean()\n",
    "print(\"train_rmse:{:0.4f}\".format(rmse_train))\n",
    "\n",
    "rmse_test=np.sqrt((pred_test - y) ** 2).mean()\n",
    "print(\"test_rmse:{:0.4f}\".format(rmse_test))\n"
   ]
  },
  {
   "cell_type": "code",
   "execution_count": 21,
   "metadata": {},
   "outputs": [],
   "source": [
    "dataset = pd.DataFrame({'mlp_prediction': pred_test})\n",
    "mlp_predictions = spark.createDataFrame(dataset)"
   ]
  },
  {
   "cell_type": "markdown",
   "metadata": {},
   "source": [
    "# Layer 2"
   ]
  },
  {
   "cell_type": "code",
   "execution_count": 22,
   "metadata": {},
   "outputs": [],
   "source": [
    "# Concatenate results from RF, GBR, MLP\n",
    "rf_predictions = rf_predictions.drop(\"features\").withColumnRenamed(\"prediction\", \"rf_prediction\")\n",
    "gbr_predictions = gbr_predictions.drop(\"label\",\"features\").withColumnRenamed(\"prediction\", \"gbr_prediction\")\n",
    "\n",
    "concatenated_predictions = (rf_predictions\n",
    "        .join(gbr_predictions, on=['time'], how='inner'))"
   ]
  },
  {
   "cell_type": "code",
   "execution_count": 23,
   "metadata": {},
   "outputs": [],
   "source": [
    "from pyspark.sql.functions import row_number\n",
    "from pyspark.sql.functions import lit\n",
    "w = Window().orderBy()\n",
    "\n",
    "df1 =  concatenated_predictions.withColumn(\"row_id\", row_number().over(Window.orderBy(lit((\"1\")))))\n",
    "\n",
    "df2 =  mlp_predictions.withColumn(\"row_id\", row_number().over(Window.orderBy(lit((\"1\")))))"
   ]
  },
  {
   "cell_type": "code",
   "execution_count": 24,
   "metadata": {},
   "outputs": [],
   "source": [
    "concatenated_predictions = (df1\n",
    "        .join(df2, on=['row_id'], how='inner')\n",
    "        .drop('row_id'))"
   ]
  },
  {
   "cell_type": "code",
   "execution_count": 25,
   "metadata": {},
   "outputs": [],
   "source": [
    "# Split the data into training and test sets \n",
    "ndf = concatenated_predictions.withColumn(\"rank\", percent_rank().over(Window.partitionBy().orderBy(\"time\")))\n",
    "\n",
    "trainingData_nv = ndf.where(\"rank <= .75\").drop(\"rank\")\n",
    "testData_nv = ndf.where(\"rank > .75\").drop(\"rank\")"
   ]
  },
  {
   "cell_type": "code",
   "execution_count": 26,
   "metadata": {},
   "outputs": [],
   "source": [
    "# Compress features into feature vector\n",
    "assembler = VectorAssembler(inputCols=[\"rf_prediction\", \"gbr_prediction\", \"mlp_prediction\"],outputCol=\"features\")\n",
    "trainingData = assembler.transform(trainingData_nv)\n",
    "testData = assembler.transform(testData_nv)\n",
    "\n",
    "trainingData = trainingData.selectExpr(\"time\", \"label\", \"features\")\n",
    "testData = testData.selectExpr(\"time\", \"label\", \"features\")"
   ]
  },
  {
   "cell_type": "code",
   "execution_count": 27,
   "metadata": {},
   "outputs": [
    {
     "name": "stdout",
     "output_type": "stream",
     "text": [
      "X: 533\n",
      "Training X: 400\n",
      "Testing X: 133\n"
     ]
    }
   ],
   "source": [
    "# Information about train and test and X variables\n",
    "print('X: %d' % (concatenated_predictions.count()))\n",
    "print('Training X: %d' % (trainingData.count()))\n",
    "print('Testing X: %d' % (testData.count()))"
   ]
  },
  {
   "cell_type": "code",
   "execution_count": 28,
   "metadata": {},
   "outputs": [],
   "source": [
    "# Train RandomForest model\n",
    "rf = RandomForestRegressor(featuresCol=\"features\")\n",
    "model = rf.fit(trainingData)"
   ]
  },
  {
   "cell_type": "code",
   "execution_count": 29,
   "metadata": {},
   "outputs": [
    {
     "name": "stdout",
     "output_type": "stream",
     "text": [
      "+-------------------+------------------+-----+--------------------+\n",
      "|               time|        prediction|label|            features|\n",
      "+-------------------+------------------+-----+--------------------+\n",
      "|2019-08-18 06:00:00|22.064904432404948| 21.6|[20.9412750793537...|\n",
      "|2019-08-18 07:00:00| 22.32438629406864| 21.6|[21.7407709563457...|\n",
      "|2019-08-18 08:00:00|22.175922931156084| 22.3|[23.1962380251637...|\n",
      "|2019-08-18 09:00:00|23.107283764437756| 23.3|[24.2241475626454...|\n",
      "|2019-08-18 10:00:00|26.058678125745207| 24.4|[25.6891387166051...|\n",
      "|2019-08-18 11:00:00| 27.61599540944234| 25.0|[27.3894302680568...|\n",
      "|2019-08-18 12:00:00|27.276778225787133| 26.6|[27.5499234350206...|\n",
      "|2019-08-18 13:00:00|27.766271386749672| 27.8|[27.7871610214442...|\n",
      "|2019-08-18 14:00:00|27.683104145572457| 28.4|[27.6266678544804...|\n",
      "|2019-08-18 15:00:00| 27.42070272285103| 28.0|[27.3416550882927...|\n",
      "+-------------------+------------------+-----+--------------------+\n",
      "only showing top 10 rows\n",
      "\n",
      "Root Mean Squared Error (RMSE) on test data = 1.39767\n"
     ]
    }
   ],
   "source": [
    "# Make predictions\n",
    "rf_predictions = model.transform(testData)\n",
    "\n",
    "# Display example rows\n",
    "rf_predictions.select(\"time\",\"prediction\", \"label\", \"features\").show(10)\n",
    "\n",
    "# Compute RMS error\n",
    "evaluator = RegressionEvaluator(\n",
    "    labelCol=\"label\", predictionCol=\"prediction\", metricName=\"rmse\")\n",
    "rmse = evaluator.evaluate(rf_predictions)\n",
    "print(\"Root Mean Squared Error (RMSE) on test data = %g\" % rmse)\n",
    "\n",
    "evaluator = RegressionEvaluator(\n",
    "    labelCol=\"label\", predictionCol=\"prediction\", metricName=\"rmse\")\n",
    "rmse = evaluator.evaluate(rf_predictions)"
   ]
  },
  {
   "cell_type": "code",
   "execution_count": 30,
   "metadata": {},
   "outputs": [
    {
     "data": {
      "text/plain": [
       "Text(0, 0.5, 'Temperature (C°)')"
      ]
     },
     "execution_count": 30,
     "metadata": {},
     "output_type": "execute_result"
    },
    {
     "data": {
      "image/png": "[encoded data removed]",
      "text/plain": [
       "<Figure size 864x576 with 1 Axes>"
      ]
     },
     "metadata": {},
     "output_type": "display_data"
    }
   ],
   "source": [
    "# Chart comparaison between predicted and actual values\n",
    "pand = rf_predictions.select(\"prediction\", \"label\")\n",
    "df = pand.toPandas()\n",
    "plt.style.use('seaborn-darkgrid')\n",
    "plt.figure(figsize=(12,8))\n",
    "plt.plot(df)\n",
    "plt.legend(df, fontsize=19)\n",
    "plt.xlabel(\"Time slot\", fontsize=17)\n",
    "plt.ylabel(\"Temperature (C°)\", fontsize=17)"
   ]
  },
  {
   "cell_type": "code",
   "execution_count": 31,
   "metadata": {},
   "outputs": [],
   "source": [
    "# Initialize GBR\n",
    "gbr = GBTRegressor(featuresCol=\"features\", labelCol = \"label\", maxIter=100)\n",
    "\n",
    "# Train model using same data structure as RandomForest\n",
    "model = gbr.fit(trainingData)"
   ]
  },
  {
   "cell_type": "code",
   "execution_count": 32,
   "metadata": {},
   "outputs": [
    {
     "name": "stdout",
     "output_type": "stream",
     "text": [
      "+------------------+-----+--------------------+\n",
      "|        prediction|label|            features|\n",
      "+------------------+-----+--------------------+\n",
      "|23.917024728134855| 21.6|[20.9412750793537...|\n",
      "|23.842697058765122| 21.6|[21.7407709563457...|\n",
      "|20.451714872610953| 22.3|[23.1962380251637...|\n",
      "| 20.94771461359834| 23.3|[24.2241475626454...|\n",
      "| 26.11769949379874| 24.4|[25.6891387166051...|\n",
      "|27.531795826406487| 25.0|[27.3894302680568...|\n",
      "|24.732316408822083| 26.6|[27.5499234350206...|\n",
      "| 27.22349360217021| 27.8|[27.7871610214442...|\n",
      "| 27.22349360217021| 28.4|[27.6266678544804...|\n",
      "|26.251417235494305| 28.0|[27.3416550882927...|\n",
      "+------------------+-----+--------------------+\n",
      "only showing top 10 rows\n",
      "\n",
      "Root Mean Squared Error (RMSE) on test data = 1.84843\n"
     ]
    }
   ],
   "source": [
    "# Make predictions\n",
    "gbr_predictions = model.transform(testData)\n",
    "\n",
    "# Display example rows\n",
    "gbr_predictions.select(\"prediction\", \"label\", \"features\").show(10)\n",
    "\n",
    "# Compute test error\n",
    "evaluator = RegressionEvaluator(\n",
    "    labelCol=\"label\", predictionCol=\"prediction\", metricName=\"rmse\")\n",
    "rmse = evaluator.evaluate(gbr_predictions)\n",
    "print(\"Root Mean Squared Error (RMSE) on test data = %g\" % rmse)"
   ]
  },
  {
   "cell_type": "code",
   "execution_count": 33,
   "metadata": {},
   "outputs": [],
   "source": [
    "#Initialize data for MLP\n",
    "\n",
    "train = trainingData_nv.toPandas()\n",
    "test = testData_nv.toPandas()\n",
    "\n",
    "train = train.drop('time', axis=1)\n",
    "test = test.drop('time', axis=1)\n",
    "\n",
    "X=train.drop(['label'],axis=1)\n",
    "Y=train['label']\n",
    "\n",
    "x=test.drop(['label'],axis=1)\n",
    "y=test['label']\n",
    "\n",
    "# Move data to numpy array\n",
    "\n",
    "X = np.array(X) #Train \n",
    "Y = np.array(Y) \n",
    "x = np.array(x) #Test\n",
    "y = np.array(y) "
   ]
  },
  {
   "cell_type": "code",
   "execution_count": 34,
   "metadata": {},
   "outputs": [],
   "source": [
    "#Initialize MLP model\n",
    "\n",
    "mlp = MLPRegressor(\n",
    "    hidden_layer_sizes=(6,),  activation='relu', solver='adam', alpha=0.001, batch_size=10,\n",
    "    learning_rate='constant', learning_rate_init=0.03, power_t=0.5, max_iter=3000, shuffle=True,\n",
    "    random_state=9, tol=0.001, verbose='optional', warm_start=False, momentum=0.9, nesterovs_momentum=True,\n",
    "    early_stopping=False, validation_fraction=0.1, beta_1=0.9, beta_2=0.999, epsilon=1e-08)"
   ]
  },
  {
   "cell_type": "code",
   "execution_count": 35,
   "metadata": {},
   "outputs": [
    {
     "name": "stdout",
     "output_type": "stream",
     "text": [
      "Iteration 1, loss = 14.84924575\n",
      "Iteration 2, loss = 1.24775269\n",
      "Iteration 3, loss = 1.08092498\n",
      "Iteration 4, loss = 1.03734947\n",
      "Iteration 5, loss = 1.02986972\n",
      "Iteration 6, loss = 1.05552659\n",
      "Iteration 7, loss = 1.18278688\n",
      "Iteration 8, loss = 1.04401395\n",
      "Iteration 9, loss = 1.06792444\n",
      "Iteration 10, loss = 1.12524015\n",
      "Iteration 11, loss = 1.16194952\n",
      "Iteration 12, loss = 1.20493428\n",
      "Iteration 13, loss = 1.04368222\n",
      "Iteration 14, loss = 1.07833338\n",
      "Iteration 15, loss = 1.08040115\n",
      "Iteration 16, loss = 1.00085349\n",
      "Iteration 17, loss = 1.09807858\n",
      "Iteration 18, loss = 1.09417147\n",
      "Iteration 19, loss = 1.05071422\n",
      "Iteration 20, loss = 1.04467070\n",
      "Iteration 21, loss = 1.03008226\n",
      "Iteration 22, loss = 1.17374415\n",
      "Iteration 23, loss = 1.03900986\n",
      "Iteration 24, loss = 1.11746189\n",
      "Iteration 25, loss = 1.09926636\n",
      "Iteration 26, loss = 1.01943556\n",
      "Iteration 27, loss = 1.03861047\n",
      "Training loss did not improve more than tol=0.001000 for 10 consecutive epochs. Stopping.\n"
     ]
    }
   ],
   "source": [
    "mlp.fit(X, Y)\n",
    "\n",
    "pred_train = mlp.predict(X)\n",
    "pred_test = mlp.predict(x)"
   ]
  },
  {
   "cell_type": "code",
   "execution_count": 36,
   "metadata": {},
   "outputs": [
    {
     "name": "stdout",
     "output_type": "stream",
     "text": [
      "Model Performance\n",
      "Average Error: 1.0997 degrees.\n",
      "Accuracy = 95.35%.\n",
      "train_rmse:1.1041\n",
      "test_rmse:1.0997\n"
     ]
    }
   ],
   "source": [
    "evaluate(x,y)\n",
    "\n",
    "#calculating rmse for train and test data\n",
    "rmse_train=np.sqrt((Y - pred_train) ** 2).mean()\n",
    "print(\"train_rmse:{:0.4f}\".format(rmse_train))\n",
    "\n",
    "rmse_test=np.sqrt((pred_test - y) ** 2).mean()\n",
    "print(\"test_rmse:{:0.4f}\".format(rmse_test))"
   ]
  },
  {
   "cell_type": "code",
   "execution_count": 37,
   "metadata": {},
   "outputs": [],
   "source": [
    "dataset = pd.DataFrame({'mlp_prediction_2': pred_test})\n",
    "mlp_predictions = spark.createDataFrame(dataset)"
   ]
  },
  {
   "cell_type": "markdown",
   "metadata": {},
   "source": [
    "# Layer 3"
   ]
  },
  {
   "cell_type": "code",
   "execution_count": 38,
   "metadata": {},
   "outputs": [],
   "source": [
    "# Concatenate results from RF, GBR, MLP\n",
    "\n",
    "rf_predictions = rf_predictions.drop(\"features\").withColumnRenamed(\"prediction\", \"rf_prediction_2\")\n",
    "gbr_predictions = gbr_predictions.drop(\"label\",\"features\").withColumnRenamed(\"prediction\", \"gbr_prediction_2\")\n",
    "\n",
    "concatenated_predictions = (rf_predictions\n",
    "        .join(gbr_predictions, on=['time'], how='inner'))"
   ]
  },
  {
   "cell_type": "code",
   "execution_count": 39,
   "metadata": {},
   "outputs": [],
   "source": [
    "# Concatenation \n",
    "\n",
    "w = Window().orderBy()\n",
    "\n",
    "df1 =  concatenated_predictions.withColumn(\"row_id\", row_number().over(Window.orderBy(lit((\"1\")))))\n",
    "df2 =  mlp_predictions.withColumn(\"row_id\", row_number().over(Window.orderBy(lit((\"1\")))))\n",
    "\n",
    "concatenated_predictions = (df1\n",
    "        .join(df2, on=['row_id'], how='inner')\n",
    "        .drop('row_id'))"
   ]
  },
  {
   "cell_type": "code",
   "execution_count": 40,
   "metadata": {},
   "outputs": [],
   "source": [
    "# Split the data into training and test sets \n",
    "concatenated_predictions = concatenated_predictions.withColumn(\"rank\", percent_rank().over(Window.partitionBy().orderBy(\"time\")))\n",
    "trainingData_nv = concatenated_predictions.where(\"rank <= .75\").drop(\"rank\")\n",
    "testData_nv = concatenated_predictions.where(\"rank > .75\").drop(\"rank\")"
   ]
  },
  {
   "cell_type": "code",
   "execution_count": 41,
   "metadata": {},
   "outputs": [],
   "source": [
    "# Compress features into feature vector\n",
    "assembler = VectorAssembler(inputCols=[\"rf_prediction_2\", \"gbr_prediction_2\", \"mlp_prediction_2\"],outputCol=\"features\")\n",
    "trainingData = assembler.transform(trainingData_nv)\n",
    "testData = assembler.transform(testData_nv)\n",
    "\n",
    "trainingData = trainingData.selectExpr(\"time\", \"label\", \"features\")\n",
    "testData = testData.selectExpr(\"time\", \"label\", \"features\")"
   ]
  },
  {
   "cell_type": "code",
   "execution_count": 42,
   "metadata": {},
   "outputs": [
    {
     "name": "stdout",
     "output_type": "stream",
     "text": [
      "X: 133\n",
      "Training X: 100\n",
      "Testing X: 33\n"
     ]
    }
   ],
   "source": [
    "# Information about train and test and X variables\n",
    "print('X: %d' % (concatenated_predictions.count()))\n",
    "print('Training X: %d' % (trainingData.count()))\n",
    "print('Testing X: %d' % (testData.count()))"
   ]
  },
  {
   "cell_type": "code",
   "execution_count": 43,
   "metadata": {},
   "outputs": [],
   "source": [
    "# Train RandomForest model\n",
    "rf = RandomForestRegressor(featuresCol=\"features\")\n",
    "model = rf.fit(trainingData)"
   ]
  },
  {
   "cell_type": "code",
   "execution_count": 44,
   "metadata": {},
   "outputs": [
    {
     "name": "stdout",
     "output_type": "stream",
     "text": [
      "+-------------------+------------------+-----+--------------------+\n",
      "|               time|        prediction|label|            features|\n",
      "+-------------------+------------------+-----+--------------------+\n",
      "|2019-08-22 10:00:00| 27.01712968975469| 25.6|[27.8333914732070...|\n",
      "|2019-08-22 11:00:00|27.472929292929297| 27.7|[29.1338493980647...|\n",
      "|2019-08-22 12:00:00|28.407357142857155| 30.1|[29.6750432462448...|\n",
      "|2019-08-22 13:00:00|28.129944444444455| 30.9|[29.7926934177667...|\n",
      "|2019-08-22 14:00:00|28.407357142857155| 32.1|[31.4647797204973...|\n",
      "|2019-08-22 15:00:00|28.407357142857155| 31.7|[31.4713697998624...|\n",
      "|2019-08-22 16:00:00|28.407357142857155| 30.8|[30.4526610596570...|\n",
      "|2019-08-22 17:00:00|27.565382936507937| 30.9|[28.5048013897587...|\n",
      "|2019-08-22 18:00:00|26.300737785262548| 30.1|[26.2951556941668...|\n",
      "|2019-08-22 19:00:00|  25.1961711296959| 27.7|[24.6323482650913...|\n",
      "+-------------------+------------------+-----+--------------------+\n",
      "only showing top 10 rows\n",
      "\n",
      "Root Mean Squared Error (RMSE) on test data = 2.23249\n"
     ]
    }
   ],
   "source": [
    "# Make predictions\n",
    "rf_predictions = model.transform(testData)\n",
    "\n",
    "# Display example rows\n",
    "rf_predictions.select(\"time\",\"prediction\", \"label\", \"features\").show(10)\n",
    "\n",
    "# Compute RMS error\n",
    "evaluator = RegressionEvaluator(\n",
    "    labelCol=\"label\", predictionCol=\"prediction\", metricName=\"rmse\")\n",
    "rmse = evaluator.evaluate(rf_predictions)\n",
    "print(\"Root Mean Squared Error (RMSE) on test data = %g\" % rmse)\n",
    "\n",
    "evaluator = RegressionEvaluator(\n",
    "    labelCol=\"label\", predictionCol=\"prediction\", metricName=\"rmse\")\n",
    "rmse = evaluator.evaluate(rf_predictions)"
   ]
  },
  {
   "cell_type": "code",
   "execution_count": 45,
   "metadata": {},
   "outputs": [],
   "source": [
    "# Initialize GBR\n",
    "gbr = GBTRegressor(featuresCol=\"features\", labelCol = \"label\", maxIter=100)\n",
    "\n",
    "# Train model using same data structure as RandomForest\n",
    "model = gbr.fit(trainingData)"
   ]
  },
  {
   "cell_type": "code",
   "execution_count": 46,
   "metadata": {},
   "outputs": [
    {
     "name": "stdout",
     "output_type": "stream",
     "text": [
      "+-------------------+------------------+-----+--------------------+\n",
      "|               time|        prediction|label|            features|\n",
      "+-------------------+------------------+-----+--------------------+\n",
      "|2019-08-22 10:00:00|26.899534242733328| 25.6|[27.8333914732070...|\n",
      "|2019-08-22 11:00:00| 28.80522374556438| 27.7|[29.1338493980647...|\n",
      "|2019-08-22 12:00:00|28.703884539606708| 30.1|[29.6750432462448...|\n",
      "|2019-08-22 13:00:00|28.301573972840163| 30.9|[29.7926934177667...|\n",
      "|2019-08-22 14:00:00|28.703884539606708| 32.1|[31.4647797204973...|\n",
      "|2019-08-22 15:00:00|28.703884539606708| 31.7|[31.4713697998624...|\n",
      "|2019-08-22 16:00:00|28.703884539606708| 30.8|[30.4526610596570...|\n",
      "|2019-08-22 17:00:00| 27.04790888131345| 30.9|[28.5048013897587...|\n",
      "|2019-08-22 18:00:00|27.934002645400138| 30.1|[26.2951556941668...|\n",
      "|2019-08-22 19:00:00|26.989734834112404| 27.7|[24.6323482650913...|\n",
      "+-------------------+------------------+-----+--------------------+\n",
      "only showing top 10 rows\n",
      "\n",
      "Root Mean Squared Error (RMSE) on test data = 2.09666\n"
     ]
    }
   ],
   "source": [
    "# Make predictions\n",
    "gbr_predictions = model.transform(testData)\n",
    "\n",
    "# Display example rows\n",
    "gbr_predictions.select(\"time\",\"prediction\", \"label\", \"features\").show(10)\n",
    "\n",
    "# Compute test error\n",
    "evaluator = RegressionEvaluator(\n",
    "    labelCol=\"label\", predictionCol=\"prediction\", metricName=\"rmse\")\n",
    "rmse = evaluator.evaluate(gbr_predictions)\n",
    "print(\"Root Mean Squared Error (RMSE) on test data = %g\" % rmse)"
   ]
  },
  {
   "cell_type": "code",
   "execution_count": 47,
   "metadata": {},
   "outputs": [],
   "source": [
    "#Initialize data for MLP\n",
    "\n",
    "train = trainingData_nv.toPandas()\n",
    "test = testData_nv.toPandas()\n",
    "\n",
    "train = train.drop('time', axis=1)\n",
    "test = test.drop('time', axis=1)"
   ]
  },
  {
   "cell_type": "code",
   "execution_count": 48,
   "metadata": {},
   "outputs": [],
   "source": [
    "X=train.drop(['label'],axis=1)\n",
    "Y=train['label']\n",
    "\n",
    "x=test.drop(['label'],axis=1)\n",
    "y=test['label']\n",
    "\n",
    "#shaping the data in numpy array\n",
    "\n",
    "X = np.array(X) #Train \n",
    "Y = np.array(Y) #Train\n",
    "x = np.array(x) #Test\n",
    "y = np.array(y) #Test"
   ]
  },
  {
   "cell_type": "code",
   "execution_count": 49,
   "metadata": {},
   "outputs": [],
   "source": [
    "#Initialize MLP model\n",
    "\n",
    "mlp = MLPRegressor(\n",
    "    hidden_layer_sizes=(6,),  activation='relu', solver='adam', alpha=0.001, batch_size=10,\n",
    "    learning_rate='constant', learning_rate_init=0.03, power_t=0.5, max_iter=3000, shuffle=True,\n",
    "    random_state=9, tol=0.001, verbose='optional', warm_start=False, momentum=0.9, nesterovs_momentum=True,\n",
    "    early_stopping=False, validation_fraction=0.1, beta_1=0.9, beta_2=0.999, epsilon=1e-08)"
   ]
  },
  {
   "cell_type": "code",
   "execution_count": 50,
   "metadata": {},
   "outputs": [
    {
     "name": "stdout",
     "output_type": "stream",
     "text": [
      "Iteration 1, loss = 32.96769728\n",
      "Iteration 2, loss = 8.50132785\n",
      "Iteration 3, loss = 4.14349691\n",
      "Iteration 4, loss = 2.01273571\n",
      "Iteration 5, loss = 1.40488158\n",
      "Iteration 6, loss = 1.25465364\n",
      "Iteration 7, loss = 1.25861306\n",
      "Iteration 8, loss = 1.28444870\n",
      "Iteration 9, loss = 1.19034225\n",
      "Iteration 10, loss = 1.24016752\n",
      "Iteration 11, loss = 1.29113233\n",
      "Iteration 12, loss = 1.27346097\n",
      "Iteration 13, loss = 1.28783605\n",
      "Iteration 14, loss = 1.43316290\n",
      "Iteration 15, loss = 1.39460998\n",
      "Iteration 16, loss = 1.12733373\n",
      "Iteration 17, loss = 1.20378897\n",
      "Iteration 18, loss = 1.27366239\n",
      "Iteration 19, loss = 1.16635030\n",
      "Iteration 20, loss = 1.20498738\n",
      "Iteration 21, loss = 1.22026493\n",
      "Iteration 22, loss = 1.17204128\n",
      "Iteration 23, loss = 1.21413552\n",
      "Iteration 24, loss = 1.15935727\n",
      "Iteration 25, loss = 1.12300592\n",
      "Iteration 26, loss = 1.11140213\n",
      "Iteration 27, loss = 1.16173671\n",
      "Iteration 28, loss = 1.21424833\n",
      "Iteration 29, loss = 1.12748740\n",
      "Iteration 30, loss = 1.11347275\n",
      "Iteration 31, loss = 1.10537548\n",
      "Iteration 32, loss = 1.20595517\n",
      "Iteration 33, loss = 1.21669264\n",
      "Iteration 34, loss = 1.14016667\n",
      "Iteration 35, loss = 1.13010738\n",
      "Iteration 36, loss = 1.09985170\n",
      "Iteration 37, loss = 1.06872760\n",
      "Iteration 38, loss = 1.14407720\n",
      "Iteration 39, loss = 1.21531173\n",
      "Iteration 40, loss = 1.17277409\n",
      "Iteration 41, loss = 1.06188282\n",
      "Iteration 42, loss = 1.04059033\n",
      "Iteration 43, loss = 1.10896619\n",
      "Iteration 44, loss = 1.05634175\n",
      "Iteration 45, loss = 1.07362715\n",
      "Iteration 46, loss = 1.06867485\n",
      "Iteration 47, loss = 1.16036335\n",
      "Iteration 48, loss = 1.04817431\n",
      "Iteration 49, loss = 1.01996885\n",
      "Iteration 50, loss = 1.07614583\n",
      "Iteration 51, loss = 1.13073474\n",
      "Iteration 52, loss = 1.24271671\n",
      "Iteration 53, loss = 1.09425636\n",
      "Iteration 54, loss = 1.05803329\n",
      "Iteration 55, loss = 1.04009443\n",
      "Iteration 56, loss = 1.07544744\n",
      "Iteration 57, loss = 1.06804330\n",
      "Iteration 58, loss = 1.01449097\n",
      "Iteration 59, loss = 1.14228477\n",
      "Iteration 60, loss = 1.20887873\n",
      "Iteration 61, loss = 1.30829770\n",
      "Iteration 62, loss = 1.35300832\n",
      "Iteration 63, loss = 1.33963533\n",
      "Iteration 64, loss = 0.97649037\n",
      "Iteration 65, loss = 1.01584284\n",
      "Iteration 66, loss = 1.09706296\n",
      "Iteration 67, loss = 1.06632634\n",
      "Iteration 68, loss = 1.07126900\n",
      "Iteration 69, loss = 1.09922775\n",
      "Iteration 70, loss = 1.15008865\n",
      "Iteration 71, loss = 1.34667310\n",
      "Iteration 72, loss = 0.94427430\n",
      "Iteration 73, loss = 0.99536198\n",
      "Iteration 74, loss = 0.97583837\n",
      "Iteration 75, loss = 0.99626374\n",
      "Iteration 76, loss = 1.10730129\n",
      "Iteration 77, loss = 0.93913871\n",
      "Iteration 78, loss = 0.95943557\n",
      "Iteration 79, loss = 0.96230767\n",
      "Iteration 80, loss = 0.95676293\n",
      "Iteration 81, loss = 0.96089047\n",
      "Iteration 82, loss = 1.00966288\n",
      "Iteration 83, loss = 1.15561950\n",
      "Iteration 84, loss = 1.10279289\n",
      "Iteration 85, loss = 1.06268840\n",
      "Iteration 86, loss = 0.98779449\n",
      "Iteration 87, loss = 0.96189624\n",
      "Iteration 88, loss = 0.92722141\n",
      "Iteration 89, loss = 0.96808351\n",
      "Iteration 90, loss = 1.13979949\n",
      "Iteration 91, loss = 0.92249761\n",
      "Iteration 92, loss = 1.11380086\n",
      "Iteration 93, loss = 1.19268202\n",
      "Iteration 94, loss = 1.11865907\n",
      "Iteration 95, loss = 1.28246320\n",
      "Iteration 96, loss = 1.05775720\n",
      "Iteration 97, loss = 1.43077164\n",
      "Iteration 98, loss = 1.16508250\n",
      "Iteration 99, loss = 1.07080256\n",
      "Iteration 100, loss = 0.97026276\n",
      "Iteration 101, loss = 0.94548822\n",
      "Iteration 102, loss = 0.95809019\n",
      "Training loss did not improve more than tol=0.001000 for 10 consecutive epochs. Stopping.\n"
     ]
    }
   ],
   "source": [
    "mlp.fit(X, Y)\n",
    "\n",
    "pred_train = mlp.predict(X)\n",
    "pred_test = mlp.predict(x)"
   ]
  },
  {
   "cell_type": "code",
   "execution_count": 51,
   "metadata": {},
   "outputs": [
    {
     "name": "stdout",
     "output_type": "stream",
     "text": [
      "Model Performance\n",
      "Average Error: 1.3458 degrees.\n",
      "Accuracy = 94.90%.\n",
      "train_rmse:1.0928\n",
      "test_rmse:1.3458\n"
     ]
    }
   ],
   "source": [
    "evaluate(x,y)\n",
    "\n",
    "#calculating rmse for train and test data\n",
    "rmse_train=np.sqrt((Y - pred_train) ** 2).mean()\n",
    "print(\"train_rmse:{:0.4f}\".format(rmse_train))\n",
    "\n",
    "rmse_test=np.sqrt((pred_test - y) ** 2).mean()\n",
    "print(\"test_rmse:{:0.4f}\".format(rmse_test))"
   ]
  },
  {
   "cell_type": "code",
   "execution_count": 52,
   "metadata": {},
   "outputs": [],
   "source": [
    "dataset = pd.DataFrame({'mlp_prediction_3': pred_test})\n",
    "mlp_predictions = spark.createDataFrame(dataset)"
   ]
  },
  {
   "cell_type": "markdown",
   "metadata": {},
   "source": [
    "# Layer 4"
   ]
  },
  {
   "cell_type": "code",
   "execution_count": 53,
   "metadata": {},
   "outputs": [],
   "source": [
    "# Concatenate results from RF, GBR\n",
    "rf_predictions = rf_predictions.drop(\"features\").withColumnRenamed(\"prediction\", \"rf_prediction_3\")\n",
    "gbr_predictions = gbr_predictions.drop(\"label\",\"features\").withColumnRenamed(\"prediction\", \"gbr_prediction_3\")\n",
    "\n",
    "concatenated_predictions = (rf_predictions\n",
    "        .join(gbr_predictions, on=['time'], how='inner'))"
   ]
  },
  {
   "cell_type": "code",
   "execution_count": 54,
   "metadata": {},
   "outputs": [],
   "source": [
    "# Concatenate\n",
    "\n",
    "w = Window().orderBy()\n",
    "\n",
    "df1 =  concatenated_predictions.withColumn(\"row_id\", row_number().over(Window.orderBy(lit((\"1\")))))\n",
    "df2 =  mlp_predictions.withColumn(\"row_id\", row_number().over(Window.orderBy(lit((\"1\")))))\n",
    "\n",
    "concatenated_predictions = (df1\n",
    "        .join(df2, on=['row_id'], how='inner')\n",
    "        .drop('row_id'))"
   ]
  },
  {
   "cell_type": "code",
   "execution_count": 55,
   "metadata": {},
   "outputs": [],
   "source": [
    "# Split the data into training and test sets \n",
    "ndfg = concatenated_predictions.withColumn(\"rank\", percent_rank().over(Window.partitionBy().orderBy(\"time\")))\n",
    "\n",
    "trainingData_nv = ndfg.where(\"rank <= .75\").drop(\"rank\")\n",
    "testData_nv = ndfg.where(\"rank > .75\").drop(\"rank\")"
   ]
  },
  {
   "cell_type": "code",
   "execution_count": 56,
   "metadata": {},
   "outputs": [],
   "source": [
    "# Compress features into feature vector\n",
    "assembler = VectorAssembler(inputCols=[\"rf_prediction_3\", \"gbr_prediction_3\", \"mlp_prediction_3\"],outputCol=\"features\")\n",
    "trainingData = assembler.transform(trainingData_nv)\n",
    "testData = assembler.transform(testData_nv)\n",
    "\n",
    "trainingData = trainingData.selectExpr(\"time\", \"label\", \"features\")\n",
    "testData = testData.selectExpr(\"time\", \"label\", \"features\")"
   ]
  },
  {
   "cell_type": "code",
   "execution_count": 57,
   "metadata": {},
   "outputs": [
    {
     "name": "stdout",
     "output_type": "stream",
     "text": [
      "X: 33\n",
      "Training X: 25\n",
      "Testing X: 8\n"
     ]
    }
   ],
   "source": [
    "# Information about train and test variables\n",
    "print('X: %d' % (concatenated_predictions.count()))\n",
    "print('Training X: %d' % (trainingData.count()))\n",
    "print('Testing X: %d' % (testData.count()))"
   ]
  },
  {
   "cell_type": "code",
   "execution_count": 58,
   "metadata": {},
   "outputs": [],
   "source": [
    "# Train RandomForest model\n",
    "rf = RandomForestRegressor(featuresCol=\"features\")\n",
    "model = rf.fit(trainingData)"
   ]
  },
  {
   "cell_type": "code",
   "execution_count": 59,
   "metadata": {},
   "outputs": [
    {
     "name": "stdout",
     "output_type": "stream",
     "text": [
      "+-------------------+------------------+-----+--------------------+\n",
      "|               time|        prediction|label|            features|\n",
      "+-------------------+------------------+-----+--------------------+\n",
      "|2019-08-23 11:00:00|             28.75| 28.1|[27.4718591269841...|\n",
      "|2019-08-23 12:00:00| 30.84560714285714| 29.5|[28.4418015873015...|\n",
      "|2019-08-23 13:00:00|30.945607142857142| 31.6|[28.4073571428571...|\n",
      "|2019-08-23 14:00:00|31.152857142857147| 31.7|[28.4073571428571...|\n",
      "|2019-08-23 15:00:00|31.152857142857147| 31.4|[28.4073571428571...|\n",
      "|2019-08-23 16:00:00|30.945607142857142| 30.8|[28.4073571428571...|\n",
      "|2019-08-23 17:00:00|28.390000000000004| 29.5|[27.0703201659451...|\n",
      "|2019-08-23 18:00:00|26.869999999999994| 28.4|[25.0443528646276...|\n",
      "+-------------------+------------------+-----+--------------------+\n",
      "\n",
      "Root Mean Squared Error (RMSE) on test data = 0.909398\n"
     ]
    }
   ],
   "source": [
    "# Make predictions\n",
    "rf_predictions = model.transform(testData)\n",
    "\n",
    "# Display example rows\n",
    "rf_predictions.select(\"time\", \"prediction\", \"label\", \"features\").show(10)\n",
    "\n",
    "# Compute RMS error\n",
    "evaluator = RegressionEvaluator(\n",
    "    labelCol=\"label\", predictionCol=\"prediction\", metricName=\"rmse\")\n",
    "rmse = evaluator.evaluate(rf_predictions)\n",
    "print(\"Root Mean Squared Error (RMSE) on test data = %g\" % rmse)\n",
    "\n",
    "evaluator = RegressionEvaluator(\n",
    "    labelCol=\"label\", predictionCol=\"prediction\", metricName=\"rmse\")\n",
    "rmse = evaluator.evaluate(rf_predictions)"
   ]
  },
  {
   "cell_type": "code",
   "execution_count": 60,
   "metadata": {},
   "outputs": [],
   "source": [
    "# Initialize GBR\n",
    "gbr = GBTRegressor(featuresCol=\"features\", labelCol = \"label\", maxIter=100)\n",
    "\n",
    "# Train model using same data structure as RandomForest\n",
    "model = gbr.fit(trainingData)"
   ]
  },
  {
   "cell_type": "code",
   "execution_count": 61,
   "metadata": {},
   "outputs": [
    {
     "name": "stdout",
     "output_type": "stream",
     "text": [
      "+-------------------+------------------+-----+--------------------+\n",
      "|               time|        prediction|label|            features|\n",
      "+-------------------+------------------+-----+--------------------+\n",
      "|2019-08-23 11:00:00|25.599999999820568| 28.1|[27.4718591269841...|\n",
      "|2019-08-23 12:00:00|30.099999999820568| 29.5|[28.4418015873015...|\n",
      "|2019-08-23 13:00:00| 30.79999999982057| 31.6|[28.4073571428571...|\n",
      "|2019-08-23 14:00:00| 32.09999999982055| 31.7|[28.4073571428571...|\n",
      "|2019-08-23 15:00:00| 31.69999999982057| 31.4|[28.4073571428571...|\n",
      "|2019-08-23 16:00:00| 30.79999999982057| 30.8|[28.4073571428571...|\n",
      "|2019-08-23 17:00:00|25.599999999820568| 29.5|[27.0703201659451...|\n",
      "|2019-08-23 18:00:00| 27.69999999982057| 28.4|[25.0443528646276...|\n",
      "+-------------------+------------------+-----+--------------------+\n",
      "\n",
      "Root Mean Squared Error (RMSE) on test data = 1.70294\n"
     ]
    }
   ],
   "source": [
    "# Make predictions.\n",
    "gbr_predictions = model.transform(testData)\n",
    "\n",
    "# Display example rows\n",
    "gbr_predictions.select(\"time\",\"prediction\", \"label\", \"features\").show(10)\n",
    "\n",
    "# Select (prediction, true label) and compute test error\n",
    "evaluator = RegressionEvaluator(\n",
    "    labelCol=\"label\", predictionCol=\"prediction\", metricName=\"rmse\")\n",
    "rmse = evaluator.evaluate(gbr_predictions)\n",
    "print(\"Root Mean Squared Error (RMSE) on test data = %g\" % rmse)"
   ]
  },
  {
   "cell_type": "code",
   "execution_count": 62,
   "metadata": {},
   "outputs": [],
   "source": [
    "#Initialize data for MLP\n",
    "\n",
    "train = trainingData_nv.toPandas()\n",
    "test = testData_nv.toPandas()\n",
    "\n",
    "train = train.drop('time', axis=1)\n",
    "test = test.drop('time', axis=1)"
   ]
  },
  {
   "cell_type": "code",
   "execution_count": 63,
   "metadata": {},
   "outputs": [],
   "source": [
    "X=train.drop(['label'],axis=1)\n",
    "Y=train['label']\n",
    "\n",
    "x=test.drop(['label'],axis=1)\n",
    "y=test['label']\n",
    "\n",
    "#Move data to numpy array\n",
    "\n",
    "X = np.array(X) #Train \n",
    "Y = np.array(Y) \n",
    "x = np.array(x) #Test\n",
    "y = np.array(y) "
   ]
  },
  {
   "cell_type": "code",
   "execution_count": 64,
   "metadata": {},
   "outputs": [],
   "source": [
    "#Initialize MLP model\n",
    "\n",
    "mlp = MLPRegressor(\n",
    "    hidden_layer_sizes=(6,),  activation='relu', solver='adam', alpha=0.001, batch_size=10,\n",
    "    learning_rate='constant', learning_rate_init=0.03, power_t=0.5, max_iter=3000, shuffle=True,\n",
    "    random_state=9, tol=0.001, verbose='optional', warm_start=False, momentum=0.9, nesterovs_momentum=True,\n",
    "    early_stopping=False, validation_fraction=0.1, beta_1=0.9, beta_2=0.999, epsilon=1e-08)"
   ]
  },
  {
   "cell_type": "code",
   "execution_count": 65,
   "metadata": {},
   "outputs": [
    {
     "name": "stdout",
     "output_type": "stream",
     "text": [
      "Iteration 1, loss = 108.22907472\n",
      "Iteration 2, loss = 27.74624814\n",
      "Iteration 3, loss = 3.80909091\n",
      "Iteration 4, loss = 18.51278506\n",
      "Iteration 5, loss = 19.98736291\n",
      "Iteration 6, loss = 7.30576355\n",
      "Iteration 7, loss = 2.10118332\n",
      "Iteration 8, loss = 4.36940654\n",
      "Iteration 9, loss = 6.02283041\n",
      "Iteration 10, loss = 4.30455024\n",
      "Iteration 11, loss = 1.71265583\n",
      "Iteration 12, loss = 1.84050585\n",
      "Iteration 13, loss = 2.74491685\n",
      "Iteration 14, loss = 2.48056127\n",
      "Iteration 15, loss = 1.67796472\n",
      "Iteration 16, loss = 1.59997168\n",
      "Iteration 17, loss = 1.72243391\n",
      "Iteration 18, loss = 1.64117179\n",
      "Iteration 19, loss = 1.55529577\n",
      "Iteration 20, loss = 1.58962548\n",
      "Iteration 21, loss = 1.59617641\n",
      "Iteration 22, loss = 1.50144763\n",
      "Iteration 23, loss = 1.51548711\n",
      "Iteration 24, loss = 1.56074420\n",
      "Iteration 25, loss = 1.53644947\n",
      "Iteration 26, loss = 1.51864318\n",
      "Iteration 27, loss = 1.51111601\n",
      "Iteration 28, loss = 1.51063518\n",
      "Iteration 29, loss = 1.49822388\n",
      "Iteration 30, loss = 1.49178071\n",
      "Iteration 31, loss = 1.51094770\n",
      "Iteration 32, loss = 1.52894228\n",
      "Iteration 33, loss = 1.53785809\n",
      "Iteration 34, loss = 1.51028366\n",
      "Iteration 35, loss = 1.52216062\n",
      "Iteration 36, loss = 1.51348757\n",
      "Iteration 37, loss = 1.52024321\n",
      "Iteration 38, loss = 1.50397623\n",
      "Iteration 39, loss = 1.53741705\n",
      "Iteration 40, loss = 1.51596459\n",
      "Iteration 41, loss = 1.53566317\n",
      "Training loss did not improve more than tol=0.001000 for 10 consecutive epochs. Stopping.\n"
     ]
    }
   ],
   "source": [
    "mlp.fit(X, Y)\n",
    "\n",
    "pred_train = mlp.predict(X)\n",
    "pred_test = mlp.predict(x)"
   ]
  },
  {
   "cell_type": "code",
   "execution_count": 66,
   "metadata": {},
   "outputs": [
    {
     "name": "stdout",
     "output_type": "stream",
     "text": [
      "Model Performance\n",
      "Average Error: 1.1127 degrees.\n",
      "Accuracy = 96.37%.\n",
      "train_rmse:1.4694\n",
      "test_rmse:1.1127\n"
     ]
    }
   ],
   "source": [
    "evaluate(x,y)\n",
    "\n",
    "#calculating rmse for train and test data\n",
    "rmse_train=np.sqrt((Y - pred_train) ** 2).mean()\n",
    "print(\"train_rmse:{:0.4f}\".format(rmse_train))\n",
    "\n",
    "rmse_test=np.sqrt((pred_test - y) ** 2).mean()\n",
    "print(\"test_rmse:{:0.4f}\".format(rmse_test))"
   ]
  },
  {
   "cell_type": "markdown",
   "metadata": {},
   "source": [
    "## Model Evaluation"
   ]
  },
  {
   "cell_type": "code",
   "execution_count": 67,
   "metadata": {},
   "outputs": [
    {
     "data": {
      "text/plain": [
       "Text(0, 0.5, 'Temperature (C°)')"
      ]
     },
     "execution_count": 67,
     "metadata": {},
     "output_type": "execute_result"
    },
    {
     "data": {
      "image/png": "[encoded data removed]",
      "text/plain": [
       "<Figure size 864x576 with 1 Axes>"
      ]
     },
     "metadata": {},
     "output_type": "display_data"
    }
   ],
   "source": [
    "# Chart comparaison between predicted and measured\n",
    "\n",
    "pand = rf_predictions.select(\"prediction\", \"label\")\n",
    "df = pand.toPandas()\n",
    "plt.style.use('seaborn-darkgrid')\n",
    "plt.figure(figsize=(12,8))\n",
    "plt.plot(df)\n",
    "plt.legend(df, fontsize=19)\n",
    "plt.xlabel(\"Time slot\", fontsize=17)\n",
    "plt.ylabel(\"Temperature (C°)\", fontsize=17)"
   ]
  },
  {
   "cell_type": "code",
   "execution_count": null,
   "metadata": {},
   "outputs": [],
   "source": []
  }
 ],
 "metadata": {
  "kernelspec": {
   "display_name": "Python 3",
   "language": "python",
   "name": "python3"
  },
  "language_info": {
   "codemirror_mode": {
    "name": "ipython",
    "version": 3
   },
   "file_extension": ".py",
   "mimetype": "text/x-python",
   "name": "python",
   "nbconvert_exporter": "python",
   "pygments_lexer": "ipython3",
   "version": "3.7.6"
  }
 },
 "nbformat": 4,
 "nbformat_minor": 2
}
